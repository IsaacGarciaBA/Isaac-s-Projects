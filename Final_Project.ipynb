{
  "nbformat": 4,
  "nbformat_minor": 0,
  "metadata": {
    "kernelspec": {
      "language": "python",
      "display_name": "Python 3",
      "name": "python3"
    },
    "language_info": {
      "pygments_lexer": "ipython3",
      "nbconvert_exporter": "python",
      "version": "3.6.4",
      "file_extension": ".py",
      "codemirror_mode": {
        "name": "ipython",
        "version": 3
      },
      "name": "python",
      "mimetype": "text/x-python"
    },
    "colab": {
      "name": "Final Project.ipynb",
      "provenance": [],
      "collapsed_sections": [],
      "toc_visible": true
    }
  },
  "cells": [
    {
      "cell_type": "code",
      "metadata": {
        "_uuid": "8f2839f25d086af736a60e9eeb907d3b93b6e0e5",
        "_cell_guid": "b1076dfc-b9ad-4769-8c92-a6c4dae69d19",
        "trusted": true,
        "id": "7c1T-Pgv2_4b"
      },
      "source": [
        "import numpy as np\n",
        "import pandas as pd\n",
        "import matplotlib.pyplot as plt\n",
        "import seaborn as sns\n",
        "from sklearn.model_selection import train_test_split\n",
        "from sklearn import metrics\n",
        "from sklearn import linear_model\n",
        "from sklearn.preprocessing import MinMaxScaler\n",
        "from sklearn.feature_selection import RFE\n",
        "from sklearn.ensemble import RandomForestRegressor\n",
        "from sklearn.linear_model import LogisticRegression  "
      ],
      "execution_count": null,
      "outputs": []
    },
    {
      "cell_type": "code",
      "metadata": {
        "trusted": true,
        "id": "whB4wv6K2_4c"
      },
      "source": [
        "file_Path = '/content/Earthquakes_earthquakes.csv'"
      ],
      "execution_count": null,
      "outputs": []
    },
    {
      "cell_type": "code",
      "metadata": {
        "id": "m2ks5YK83YQv"
      },
      "source": [
        "data = pd.read_csv(file_Path)"
      ],
      "execution_count": null,
      "outputs": []
    },
    {
      "cell_type": "code",
      "metadata": {
        "trusted": true,
        "colab": {
          "base_uri": "https://localhost:8080/",
          "height": 289
        },
        "id": "kJ3RzN5O2_4d",
        "outputId": "187f1f01-7f81-4c65-86f7-e46024ef79a3"
      },
      "source": [
        "data.head()"
      ],
      "execution_count": null,
      "outputs": [
        {
          "output_type": "execute_result",
          "data": {
            "text/html": [
              "<div>\n",
              "<style scoped>\n",
              "    .dataframe tbody tr th:only-of-type {\n",
              "        vertical-align: middle;\n",
              "    }\n",
              "\n",
              "    .dataframe tbody tr th {\n",
              "        vertical-align: top;\n",
              "    }\n",
              "\n",
              "    .dataframe thead th {\n",
              "        text-align: right;\n",
              "    }\n",
              "</style>\n",
              "<table border=\"1\" class=\"dataframe\">\n",
              "  <thead>\n",
              "    <tr style=\"text-align: right;\">\n",
              "      <th></th>\n",
              "      <th>_EventID_</th>\n",
              "      <th>_Latitude_</th>\n",
              "      <th>_Longitude_</th>\n",
              "      <th>_DepthMeters_</th>\n",
              "      <th>_Contributor_</th>\n",
              "      <th>_MagType_</th>\n",
              "      <th>_Magnitude_</th>\n",
              "      <th>_EventLocationName_</th>\n",
              "      <th>_Time_</th>\n",
              "      <th>ts</th>\n",
              "      <th>potential_blast</th>\n",
              "      <th>bix_potential_blasts</th>\n",
              "    </tr>\n",
              "  </thead>\n",
              "  <tbody>\n",
              "    <tr>\n",
              "      <th>0</th>\n",
              "      <td>usp000gyu4</td>\n",
              "      <td>39.644</td>\n",
              "      <td>-75.483</td>\n",
              "      <td>5000</td>\n",
              "      <td>NEIC</td>\n",
              "      <td>md</td>\n",
              "      <td>2.8</td>\n",
              "      <td>New Jersey</td>\n",
              "      <td>2009-07-01T13:44:43.380Z</td>\n",
              "      <td>2009/07/01 09:44:43-04</td>\n",
              "      <td>0</td>\n",
              "      <td>0</td>\n",
              "    </tr>\n",
              "    <tr>\n",
              "      <th>1</th>\n",
              "      <td>usp000gyxs</td>\n",
              "      <td>37.379</td>\n",
              "      <td>-80.746</td>\n",
              "      <td>11500</td>\n",
              "      <td>NEIC</td>\n",
              "      <td>mblg</td>\n",
              "      <td>2.8</td>\n",
              "      <td>West Virginia</td>\n",
              "      <td>2009-07-04T12:24:43.460Z</td>\n",
              "      <td>2009/07/04 08:24:43-04</td>\n",
              "      <td>0</td>\n",
              "      <td>0</td>\n",
              "    </tr>\n",
              "    <tr>\n",
              "      <th>2</th>\n",
              "      <td>usp000gz1d</td>\n",
              "      <td>45.296</td>\n",
              "      <td>-73.475</td>\n",
              "      <td>18000</td>\n",
              "      <td>NEIC</td>\n",
              "      <td>md</td>\n",
              "      <td>2.1</td>\n",
              "      <td>southern Quebec, Canada</td>\n",
              "      <td>2009-07-08T10:22:11.430Z</td>\n",
              "      <td>2009/07/08 06:22:11-04</td>\n",
              "      <td>0</td>\n",
              "      <td>0</td>\n",
              "    </tr>\n",
              "    <tr>\n",
              "      <th>3</th>\n",
              "      <td>usp000h1sz</td>\n",
              "      <td>42.825</td>\n",
              "      <td>-78.239</td>\n",
              "      <td>5000</td>\n",
              "      <td>NEIC</td>\n",
              "      <td>md</td>\n",
              "      <td>2.4</td>\n",
              "      <td>New York</td>\n",
              "      <td>2009-09-23T03:45:59.900Z</td>\n",
              "      <td>2009/09/22 23:45:59-04</td>\n",
              "      <td>0</td>\n",
              "      <td>0</td>\n",
              "    </tr>\n",
              "    <tr>\n",
              "      <th>4</th>\n",
              "      <td>usp000hab0</td>\n",
              "      <td>38.619</td>\n",
              "      <td>-80.909</td>\n",
              "      <td>100</td>\n",
              "      <td>NEIC</td>\n",
              "      <td>mblg</td>\n",
              "      <td>3.4</td>\n",
              "      <td>West Virginia</td>\n",
              "      <td>2010-04-04T09:19:14.000Z</td>\n",
              "      <td>2010/04/04 05:19:14-04</td>\n",
              "      <td>0</td>\n",
              "      <td>0</td>\n",
              "    </tr>\n",
              "  </tbody>\n",
              "</table>\n",
              "</div>"
            ],
            "text/plain": [
              "    _EventID_  _Latitude_  ...  potential_blast  bix_potential_blasts\n",
              "0  usp000gyu4      39.644  ...                0                     0\n",
              "1  usp000gyxs      37.379  ...                0                     0\n",
              "2  usp000gz1d      45.296  ...                0                     0\n",
              "3  usp000h1sz      42.825  ...                0                     0\n",
              "4  usp000hab0      38.619  ...                0                     0\n",
              "\n",
              "[5 rows x 12 columns]"
            ]
          },
          "metadata": {
            "tags": []
          },
          "execution_count": 42
        }
      ]
    },
    {
      "cell_type": "code",
      "metadata": {
        "id": "0lm9des-vT8j"
      },
      "source": [
        "#normalize data\n",
        "data['_Contributor_'] = data['_Contributor_'].map({'NEIC': 1, 'ANF': 0})"
      ],
      "execution_count": null,
      "outputs": []
    },
    {
      "cell_type": "code",
      "metadata": {
        "id": "tyhuDw1Q3eoO"
      },
      "source": [
        "data['_MagType_'] = data['_MagType_'].map({'md':0, 'mblg':1, 'ml':2, 'Ml':3, 'ML':4, 'mb':5, 'MbLg':6, 'Md':7, 'lg':8,\n",
        "       'mwc':9, 'mwr':10, 'Mw':11})"
      ],
      "execution_count": null,
      "outputs": []
    },
    {
      "cell_type": "code",
      "metadata": {
        "id": "0PlItdQyNxTa"
      },
      "source": [
        "#fill NA data \n",
        "data = data.fillna(method='ffill')"
      ],
      "execution_count": null,
      "outputs": []
    },
    {
      "cell_type": "code",
      "metadata": {
        "colab": {
          "base_uri": "https://localhost:8080/",
          "height": 289
        },
        "id": "yaFJEnSqvcsg",
        "outputId": "f081e454-492c-4b60-c3da-a0b4e2f63ac5"
      },
      "source": [
        "data.head()"
      ],
      "execution_count": null,
      "outputs": [
        {
          "output_type": "execute_result",
          "data": {
            "text/html": [
              "<div>\n",
              "<style scoped>\n",
              "    .dataframe tbody tr th:only-of-type {\n",
              "        vertical-align: middle;\n",
              "    }\n",
              "\n",
              "    .dataframe tbody tr th {\n",
              "        vertical-align: top;\n",
              "    }\n",
              "\n",
              "    .dataframe thead th {\n",
              "        text-align: right;\n",
              "    }\n",
              "</style>\n",
              "<table border=\"1\" class=\"dataframe\">\n",
              "  <thead>\n",
              "    <tr style=\"text-align: right;\">\n",
              "      <th></th>\n",
              "      <th>_EventID_</th>\n",
              "      <th>_Latitude_</th>\n",
              "      <th>_Longitude_</th>\n",
              "      <th>_DepthMeters_</th>\n",
              "      <th>_Contributor_</th>\n",
              "      <th>_MagType_</th>\n",
              "      <th>_Magnitude_</th>\n",
              "      <th>_EventLocationName_</th>\n",
              "      <th>_Time_</th>\n",
              "      <th>ts</th>\n",
              "      <th>potential_blast</th>\n",
              "      <th>bix_potential_blasts</th>\n",
              "    </tr>\n",
              "  </thead>\n",
              "  <tbody>\n",
              "    <tr>\n",
              "      <th>0</th>\n",
              "      <td>usp000gyu4</td>\n",
              "      <td>39.644</td>\n",
              "      <td>-75.483</td>\n",
              "      <td>5000</td>\n",
              "      <td>1</td>\n",
              "      <td>0.0</td>\n",
              "      <td>2.8</td>\n",
              "      <td>New Jersey</td>\n",
              "      <td>2009-07-01T13:44:43.380Z</td>\n",
              "      <td>2009/07/01 09:44:43-04</td>\n",
              "      <td>0</td>\n",
              "      <td>0</td>\n",
              "    </tr>\n",
              "    <tr>\n",
              "      <th>1</th>\n",
              "      <td>usp000gyxs</td>\n",
              "      <td>37.379</td>\n",
              "      <td>-80.746</td>\n",
              "      <td>11500</td>\n",
              "      <td>1</td>\n",
              "      <td>1.0</td>\n",
              "      <td>2.8</td>\n",
              "      <td>West Virginia</td>\n",
              "      <td>2009-07-04T12:24:43.460Z</td>\n",
              "      <td>2009/07/04 08:24:43-04</td>\n",
              "      <td>0</td>\n",
              "      <td>0</td>\n",
              "    </tr>\n",
              "    <tr>\n",
              "      <th>2</th>\n",
              "      <td>usp000gz1d</td>\n",
              "      <td>45.296</td>\n",
              "      <td>-73.475</td>\n",
              "      <td>18000</td>\n",
              "      <td>1</td>\n",
              "      <td>0.0</td>\n",
              "      <td>2.1</td>\n",
              "      <td>southern Quebec, Canada</td>\n",
              "      <td>2009-07-08T10:22:11.430Z</td>\n",
              "      <td>2009/07/08 06:22:11-04</td>\n",
              "      <td>0</td>\n",
              "      <td>0</td>\n",
              "    </tr>\n",
              "    <tr>\n",
              "      <th>3</th>\n",
              "      <td>usp000h1sz</td>\n",
              "      <td>42.825</td>\n",
              "      <td>-78.239</td>\n",
              "      <td>5000</td>\n",
              "      <td>1</td>\n",
              "      <td>0.0</td>\n",
              "      <td>2.4</td>\n",
              "      <td>New York</td>\n",
              "      <td>2009-09-23T03:45:59.900Z</td>\n",
              "      <td>2009/09/22 23:45:59-04</td>\n",
              "      <td>0</td>\n",
              "      <td>0</td>\n",
              "    </tr>\n",
              "    <tr>\n",
              "      <th>4</th>\n",
              "      <td>usp000hab0</td>\n",
              "      <td>38.619</td>\n",
              "      <td>-80.909</td>\n",
              "      <td>100</td>\n",
              "      <td>1</td>\n",
              "      <td>1.0</td>\n",
              "      <td>3.4</td>\n",
              "      <td>West Virginia</td>\n",
              "      <td>2010-04-04T09:19:14.000Z</td>\n",
              "      <td>2010/04/04 05:19:14-04</td>\n",
              "      <td>0</td>\n",
              "      <td>0</td>\n",
              "    </tr>\n",
              "  </tbody>\n",
              "</table>\n",
              "</div>"
            ],
            "text/plain": [
              "    _EventID_  _Latitude_  ...  potential_blast  bix_potential_blasts\n",
              "0  usp000gyu4      39.644  ...                0                     0\n",
              "1  usp000gyxs      37.379  ...                0                     0\n",
              "2  usp000gz1d      45.296  ...                0                     0\n",
              "3  usp000h1sz      42.825  ...                0                     0\n",
              "4  usp000hab0      38.619  ...                0                     0\n",
              "\n",
              "[5 rows x 12 columns]"
            ]
          },
          "metadata": {
            "tags": []
          },
          "execution_count": 46
        }
      ]
    },
    {
      "cell_type": "markdown",
      "metadata": {
        "id": "Pp03cApmO5FD"
      },
      "source": [
        "# **Find Correlations with Heat map**"
      ]
    },
    {
      "cell_type": "code",
      "metadata": {
        "id": "XBB2sYHfA-ak"
      },
      "source": [
        "#Select numerical data \n",
        "NumColumns = ['_Latitude_',\n",
        " '_Longitude_',\n",
        " '_DepthMeters_',\n",
        " '_Magnitude_',\n",
        " 'potential_blast',\n",
        " 'bix_potential_blasts',\n",
        " '_Contributor_',\n",
        " '_MagType_']"
      ],
      "execution_count": null,
      "outputs": []
    },
    {
      "cell_type": "code",
      "metadata": {
        "trusted": true,
        "colab": {
          "base_uri": "https://localhost:8080/"
        },
        "id": "VTJYxidr2_4d",
        "outputId": "1b91d73b-abbe-477c-b8c7-fbd15bf25ab2"
      },
      "source": [
        "NumColumns"
      ],
      "execution_count": null,
      "outputs": [
        {
          "output_type": "execute_result",
          "data": {
            "text/plain": [
              "['_Latitude_',\n",
              " '_Longitude_',\n",
              " '_DepthMeters_',\n",
              " '_Magnitude_',\n",
              " 'potential_blast',\n",
              " 'bix_potential_blasts',\n",
              " '_Contributor_',\n",
              " '_MagType_']"
            ]
          },
          "metadata": {
            "tags": []
          },
          "execution_count": 48
        }
      ]
    },
    {
      "cell_type": "code",
      "metadata": {
        "trusted": true,
        "colab": {
          "base_uri": "https://localhost:8080/",
          "height": 793
        },
        "id": "NrveXAGA2_4e",
        "outputId": "99c0ff7a-ceff-48d3-ee00-c815581f1e78"
      },
      "source": [
        "#find correlations using heat maps\n",
        "corr_map = data[NumColumns].corr() \n",
        "plt.figure(figsize=(14,12))\n",
        "sns.heatmap(corr_map, annot=True, cmap=\"Reds\")\n",
        "plt.show()"
      ],
      "execution_count": null,
      "outputs": [
        {
          "output_type": "display_data",
          "data": {
            "image/png": "[encoded data removed]",
            "text/plain": [
              "<Figure size 1008x864 with 2 Axes>"
            ]
          },
          "metadata": {
            "tags": [],
            "needs_background": "light"
          }
        }
      ]
    },
    {
      "cell_type": "markdown",
      "metadata": {
        "id": "gbu1BfiAPAPt"
      },
      "source": [
        "# **Find Correlations Between Lat. and Long.**"
      ]
    },
    {
      "cell_type": "code",
      "metadata": {
        "id": "_JWyiuLQZGPT"
      },
      "source": [
        "#declare X\n",
        "X = data[['_Latitude_']]"
      ],
      "execution_count": null,
      "outputs": []
    },
    {
      "cell_type": "code",
      "metadata": {
        "id": "VUGeM7CJZE98"
      },
      "source": [
        "#declare y\n",
        "y = data[['_Longitude_']]"
      ],
      "execution_count": null,
      "outputs": []
    },
    {
      "cell_type": "code",
      "metadata": {
        "id": "aoA-nQhhZIOd"
      },
      "source": [
        "#split data\n",
        "X_train, X_test, y_train, y_test = train_test_split(X, y, test_size=0.33, random_state=10)"
      ],
      "execution_count": null,
      "outputs": []
    },
    {
      "cell_type": "code",
      "metadata": {
        "colab": {
          "base_uri": "https://localhost:8080/"
        },
        "id": "3mIdJeu0ZKTe",
        "outputId": "25b7f535-9756-449e-f8eb-96484a974f0b"
      },
      "source": [
        "#fit data\n",
        "linreg = linear_model.LinearRegression()\n",
        "linreg.fit(X_train , y_train)\n",
        "\n",
        "y_pred = linreg.predict(X_test)\n",
        "y_pred.shape"
      ],
      "execution_count": null,
      "outputs": [
        {
          "output_type": "execute_result",
          "data": {
            "text/plain": [
              "(544, 1)"
            ]
          },
          "metadata": {
            "tags": []
          },
          "execution_count": 53
        }
      ]
    },
    {
      "cell_type": "code",
      "metadata": {
        "colab": {
          "base_uri": "https://localhost:8080/"
        },
        "id": "fGE3-jFcZT6a",
        "outputId": "c94dc32f-877e-4ab0-fdfc-48d9e68330d2"
      },
      "source": [
        "#check metrics \n",
        "print('R-Squared :', metrics.r2_score(y_test,y_pred).round(2))\n",
        "print('Mean Squared Error :', metrics.mean_squared_error(y_test,y_pred))\n",
        "print('R Mean Square Error :', np.sqrt(metrics.mean_squared_error(y_test,y_pred)))"
      ],
      "execution_count": null,
      "outputs": [
        {
          "output_type": "stream",
          "text": [
            "R-Squared : 0.81\n",
            "Mean Squared Error : 1.9431519139893647\n",
            "R Mean Square Error : 1.3939698396986087\n"
          ],
          "name": "stdout"
        }
      ]
    },
    {
      "cell_type": "code",
      "metadata": {
        "colab": {
          "base_uri": "https://localhost:8080/",
          "height": 279
        },
        "id": "J9Fi6Q3J9-5N",
        "outputId": "6b5d946c-e326-40a9-ab8d-3dfa35a3d73d"
      },
      "source": [
        "#print model and line \n",
        "plt.scatter(y_test, y_pred, alpha=0.2, color = 'blue')\n",
        "\n",
        "plt.xlabel('Test data')\n",
        "plt.ylabel('Predictions')\n",
        "i=0\n",
        "s=1\n",
        "x=np.linspace(-84,-72,100)\n",
        "plt.plot(x, s*x + i)\n",
        "plt.show()"
      ],
      "execution_count": null,
      "outputs": [
        {
          "output_type": "display_data",
          "data": {
            "image/png": "[encoded data removed]",
            "text/plain": [
              "<Figure size 432x288 with 1 Axes>"
            ]
          },
          "metadata": {
            "tags": [],
            "needs_background": "light"
          }
        }
      ]
    },
    {
      "cell_type": "markdown",
      "metadata": {
        "id": "VXcNfg95PsET"
      },
      "source": [
        "# **Is Magnatude related to all other numeric factors?**"
      ]
    },
    {
      "cell_type": "code",
      "metadata": {
        "id": "VY-XmEEHS2Xb"
      },
      "source": [
        "#declare X\n",
        "X = data[['_Latitude_',\n",
        " '_Longitude_',\n",
        " '_DepthMeters_',\n",
        " 'potential_blast',\n",
        " 'bix_potential_blasts',\n",
        " '_Contributor_',\n",
        " '_MagType_']]"
      ],
      "execution_count": null,
      "outputs": []
    },
    {
      "cell_type": "code",
      "metadata": {
        "id": "naI_NZfxTEeD"
      },
      "source": [
        "#declare target\n",
        "y = data[['_Magnitude_']]"
      ],
      "execution_count": null,
      "outputs": []
    },
    {
      "cell_type": "code",
      "metadata": {
        "id": "nYygszyoStKB"
      },
      "source": [
        "#split data\n",
        "X_train, X_test, y_train, y_test = train_test_split(X, y, test_size=0.33, random_state=10)"
      ],
      "execution_count": null,
      "outputs": []
    },
    {
      "cell_type": "code",
      "metadata": {
        "colab": {
          "base_uri": "https://localhost:8080/"
        },
        "id": "ia7_H4eeSF_7",
        "outputId": "a64abaed-a597-4c9e-b6b7-580d7446b085"
      },
      "source": [
        "#linear regression model\n",
        "linreg = linear_model.LinearRegression()\n",
        "linreg.fit(X_train , y_train)\n",
        "mag_y_pred = linreg.predict(X_test)\n",
        "mag_y_pred.shape"
      ],
      "execution_count": null,
      "outputs": [
        {
          "output_type": "execute_result",
          "data": {
            "text/plain": [
              "(544, 1)"
            ]
          },
          "metadata": {
            "tags": []
          },
          "execution_count": 59
        }
      ]
    },
    {
      "cell_type": "code",
      "metadata": {
        "colab": {
          "base_uri": "https://localhost:8080/"
        },
        "id": "6W7GI7ugSO0h",
        "outputId": "b0562d77-f5b2-49c5-a43e-d39fdadc5a95"
      },
      "source": [
        "#check metrics \n",
        "print('R-Squared :', metrics.r2_score(y_test,mag_y_pred).round(2))\n",
        "print('Mean Squared Error :', metrics.mean_squared_error(y_test,y_pred))\n",
        "print('R Mean Square Error :', np.sqrt(metrics.mean_squared_error(y_test,y_pred)))"
      ],
      "execution_count": null,
      "outputs": [
        {
          "output_type": "stream",
          "text": [
            "R-Squared : 0.11\n",
            "Mean Squared Error : 6624.825677465807\n",
            "R Mean Square Error : 81.39303211863904\n"
          ],
          "name": "stdout"
        }
      ]
    },
    {
      "cell_type": "code",
      "metadata": {
        "colab": {
          "base_uri": "https://localhost:8080/",
          "height": 296
        },
        "id": "ucn2JfPWV-Sd",
        "outputId": "e7c446e6-955b-4e78-cf26-8ef904324356"
      },
      "source": [
        "#scatter plot\n",
        "plt.scatter(y_test, mag_y_pred,  alpha=0.2, color = 'blue')\n",
        "plt.xlabel('Magnetudes')\n",
        "plt.ylabel('Predictions')"
      ],
      "execution_count": null,
      "outputs": [
        {
          "output_type": "execute_result",
          "data": {
            "text/plain": [
              "Text(0, 0.5, 'Predictions')"
            ]
          },
          "metadata": {
            "tags": []
          },
          "execution_count": 61
        },
        {
          "output_type": "display_data",
          "data": {
            "image/png": "[encoded data removed]",
            "text/plain": [
              "<Figure size 432x288 with 1 Axes>"
            ]
          },
          "metadata": {
            "tags": [],
            "needs_background": "light"
          }
        }
      ]
    },
    {
      "cell_type": "markdown",
      "metadata": {
        "id": "6IOEQcVoOw70"
      },
      "source": [
        "# **Feature** **Importance**"
      ]
    },
    {
      "cell_type": "code",
      "metadata": {
        "id": "TaGCMLQZgrKF"
      },
      "source": [
        "#scale data\n",
        "scaler = MinMaxScaler()\n",
        "scaled_x_train = scaler.fit_transform(X_train)"
      ],
      "execution_count": null,
      "outputs": []
    },
    {
      "cell_type": "code",
      "metadata": {
        "colab": {
          "base_uri": "https://localhost:8080/"
        },
        "id": "U7CQADFJgx-Y",
        "outputId": "cae7cac0-9f64-453b-9de3-de75af463d41"
      },
      "source": [
        "#regression model \n",
        "rfe = RFE(linreg)\n",
        "rfe.fit(scaled_x_train, y_train.values.ravel())"
      ],
      "execution_count": null,
      "outputs": [
        {
          "output_type": "execute_result",
          "data": {
            "text/plain": [
              "RFE(estimator=LinearRegression(copy_X=True, fit_intercept=True, n_jobs=None,\n",
              "                               normalize=False),\n",
              "    n_features_to_select=None, step=1, verbose=0)"
            ]
          },
          "metadata": {
            "tags": []
          },
          "execution_count": 63
        }
      ]
    },
    {
      "cell_type": "code",
      "metadata": {
        "id": "emouuAwIig8M"
      },
      "source": [
        "#train data\n",
        "x_train_rfe = X_train[X_train.columns]"
      ],
      "execution_count": null,
      "outputs": []
    },
    {
      "cell_type": "code",
      "metadata": {
        "colab": {
          "base_uri": "https://localhost:8080/",
          "height": 419
        },
        "id": "AUfGkeNm9E5E",
        "outputId": "d18d524f-df7a-409b-c6b4-dedec41b65df"
      },
      "source": [
        "X_train"
      ],
      "execution_count": null,
      "outputs": [
        {
          "output_type": "execute_result",
          "data": {
            "text/html": [
              "<div>\n",
              "<style scoped>\n",
              "    .dataframe tbody tr th:only-of-type {\n",
              "        vertical-align: middle;\n",
              "    }\n",
              "\n",
              "    .dataframe tbody tr th {\n",
              "        vertical-align: top;\n",
              "    }\n",
              "\n",
              "    .dataframe thead th {\n",
              "        text-align: right;\n",
              "    }\n",
              "</style>\n",
              "<table border=\"1\" class=\"dataframe\">\n",
              "  <thead>\n",
              "    <tr style=\"text-align: right;\">\n",
              "      <th></th>\n",
              "      <th>_Latitude_</th>\n",
              "      <th>_Longitude_</th>\n",
              "      <th>_DepthMeters_</th>\n",
              "      <th>potential_blast</th>\n",
              "      <th>bix_potential_blasts</th>\n",
              "      <th>_Contributor_</th>\n",
              "      <th>_MagType_</th>\n",
              "    </tr>\n",
              "  </thead>\n",
              "  <tbody>\n",
              "    <tr>\n",
              "      <th>305</th>\n",
              "      <td>38.0676</td>\n",
              "      <td>-81.7150</td>\n",
              "      <td>1000</td>\n",
              "      <td>1</td>\n",
              "      <td>1</td>\n",
              "      <td>0</td>\n",
              "      <td>4.0</td>\n",
              "    </tr>\n",
              "    <tr>\n",
              "      <th>1186</th>\n",
              "      <td>37.8444</td>\n",
              "      <td>-81.8971</td>\n",
              "      <td>15200</td>\n",
              "      <td>1</td>\n",
              "      <td>1</td>\n",
              "      <td>0</td>\n",
              "      <td>4.0</td>\n",
              "    </tr>\n",
              "    <tr>\n",
              "      <th>3</th>\n",
              "      <td>42.8250</td>\n",
              "      <td>-78.2390</td>\n",
              "      <td>5000</td>\n",
              "      <td>0</td>\n",
              "      <td>0</td>\n",
              "      <td>1</td>\n",
              "      <td>0.0</td>\n",
              "    </tr>\n",
              "    <tr>\n",
              "      <th>1160</th>\n",
              "      <td>37.7347</td>\n",
              "      <td>-82.0135</td>\n",
              "      <td>2700</td>\n",
              "      <td>1</td>\n",
              "      <td>1</td>\n",
              "      <td>0</td>\n",
              "      <td>4.0</td>\n",
              "    </tr>\n",
              "    <tr>\n",
              "      <th>1274</th>\n",
              "      <td>37.7582</td>\n",
              "      <td>-82.0482</td>\n",
              "      <td>3800</td>\n",
              "      <td>1</td>\n",
              "      <td>1</td>\n",
              "      <td>0</td>\n",
              "      <td>4.0</td>\n",
              "    </tr>\n",
              "    <tr>\n",
              "      <th>...</th>\n",
              "      <td>...</td>\n",
              "      <td>...</td>\n",
              "      <td>...</td>\n",
              "      <td>...</td>\n",
              "      <td>...</td>\n",
              "      <td>...</td>\n",
              "      <td>...</td>\n",
              "    </tr>\n",
              "    <tr>\n",
              "      <th>1393</th>\n",
              "      <td>43.0300</td>\n",
              "      <td>-78.5710</td>\n",
              "      <td>6000</td>\n",
              "      <td>0</td>\n",
              "      <td>0</td>\n",
              "      <td>1</td>\n",
              "      <td>0.0</td>\n",
              "    </tr>\n",
              "    <tr>\n",
              "      <th>1344</th>\n",
              "      <td>37.7617</td>\n",
              "      <td>-82.1772</td>\n",
              "      <td>3700</td>\n",
              "      <td>1</td>\n",
              "      <td>1</td>\n",
              "      <td>0</td>\n",
              "      <td>4.0</td>\n",
              "    </tr>\n",
              "    <tr>\n",
              "      <th>527</th>\n",
              "      <td>38.0545</td>\n",
              "      <td>-81.6817</td>\n",
              "      <td>13300</td>\n",
              "      <td>1</td>\n",
              "      <td>1</td>\n",
              "      <td>0</td>\n",
              "      <td>4.0</td>\n",
              "    </tr>\n",
              "    <tr>\n",
              "      <th>1149</th>\n",
              "      <td>37.7738</td>\n",
              "      <td>-81.8155</td>\n",
              "      <td>6300</td>\n",
              "      <td>1</td>\n",
              "      <td>1</td>\n",
              "      <td>0</td>\n",
              "      <td>4.0</td>\n",
              "    </tr>\n",
              "    <tr>\n",
              "      <th>1289</th>\n",
              "      <td>37.7239</td>\n",
              "      <td>-82.0587</td>\n",
              "      <td>12600</td>\n",
              "      <td>1</td>\n",
              "      <td>1</td>\n",
              "      <td>0</td>\n",
              "      <td>4.0</td>\n",
              "    </tr>\n",
              "  </tbody>\n",
              "</table>\n",
              "<p>1103 rows × 7 columns</p>\n",
              "</div>"
            ],
            "text/plain": [
              "      _Latitude_  _Longitude_  ...  _Contributor_  _MagType_\n",
              "305      38.0676     -81.7150  ...              0        4.0\n",
              "1186     37.8444     -81.8971  ...              0        4.0\n",
              "3        42.8250     -78.2390  ...              1        0.0\n",
              "1160     37.7347     -82.0135  ...              0        4.0\n",
              "1274     37.7582     -82.0482  ...              0        4.0\n",
              "...          ...          ...  ...            ...        ...\n",
              "1393     43.0300     -78.5710  ...              1        0.0\n",
              "1344     37.7617     -82.1772  ...              0        4.0\n",
              "527      38.0545     -81.6817  ...              0        4.0\n",
              "1149     37.7738     -81.8155  ...              0        4.0\n",
              "1289     37.7239     -82.0587  ...              0        4.0\n",
              "\n",
              "[1103 rows x 7 columns]"
            ]
          },
          "metadata": {
            "tags": []
          },
          "execution_count": 65
        }
      ]
    },
    {
      "cell_type": "code",
      "metadata": {
        "id": "eGy-abmRFVSD"
      },
      "source": [
        "x_test_rfe = X_test[X_test.columns[rfe.support_]]"
      ],
      "execution_count": null,
      "outputs": []
    },
    {
      "cell_type": "code",
      "metadata": {
        "id": "eivoLe3cf9Zo"
      },
      "source": [
        "#random forest regressor\n",
        "rf = RandomForestRegressor(n_jobs=-1, n_estimators=50)\n",
        "rf.fit(x_train_rfe,y_train.values.ravel());"
      ],
      "execution_count": null,
      "outputs": []
    },
    {
      "cell_type": "code",
      "metadata": {
        "colab": {
          "base_uri": "https://localhost:8080/"
        },
        "id": "j-JROBN6ip32",
        "outputId": "de14c2bd-6221-4480-bd2a-144596ecc962"
      },
      "source": [
        "#feature impotance\n",
        "rf.feature_importances_"
      ],
      "execution_count": null,
      "outputs": [
        {
          "output_type": "execute_result",
          "data": {
            "text/plain": [
              "array([0.25036993, 0.2707951 , 0.14617413, 0.01326731, 0.00927615,\n",
              "       0.01722795, 0.29288943])"
            ]
          },
          "metadata": {
            "tags": []
          },
          "execution_count": 68
        }
      ]
    },
    {
      "cell_type": "code",
      "metadata": {
        "colab": {
          "base_uri": "https://localhost:8080/",
          "height": 266
        },
        "id": "KubXJp0citdk",
        "outputId": "19d09bef-3872-451a-b5bc-482e27ab9492"
      },
      "source": [
        "#Feature importance list\n",
        "feature_importances = pd.DataFrame(rf.feature_importances_, index = x_train_rfe.columns,\n",
        "                                    columns=['importance']).sort_values('importance',ascending=False)\n",
        "feature_importances"
      ],
      "execution_count": null,
      "outputs": [
        {
          "output_type": "execute_result",
          "data": {
            "text/html": [
              "<div>\n",
              "<style scoped>\n",
              "    .dataframe tbody tr th:only-of-type {\n",
              "        vertical-align: middle;\n",
              "    }\n",
              "\n",
              "    .dataframe tbody tr th {\n",
              "        vertical-align: top;\n",
              "    }\n",
              "\n",
              "    .dataframe thead th {\n",
              "        text-align: right;\n",
              "    }\n",
              "</style>\n",
              "<table border=\"1\" class=\"dataframe\">\n",
              "  <thead>\n",
              "    <tr style=\"text-align: right;\">\n",
              "      <th></th>\n",
              "      <th>importance</th>\n",
              "    </tr>\n",
              "  </thead>\n",
              "  <tbody>\n",
              "    <tr>\n",
              "      <th>_MagType_</th>\n",
              "      <td>0.292889</td>\n",
              "    </tr>\n",
              "    <tr>\n",
              "      <th>_Longitude_</th>\n",
              "      <td>0.270795</td>\n",
              "    </tr>\n",
              "    <tr>\n",
              "      <th>_Latitude_</th>\n",
              "      <td>0.250370</td>\n",
              "    </tr>\n",
              "    <tr>\n",
              "      <th>_DepthMeters_</th>\n",
              "      <td>0.146174</td>\n",
              "    </tr>\n",
              "    <tr>\n",
              "      <th>_Contributor_</th>\n",
              "      <td>0.017228</td>\n",
              "    </tr>\n",
              "    <tr>\n",
              "      <th>potential_blast</th>\n",
              "      <td>0.013267</td>\n",
              "    </tr>\n",
              "    <tr>\n",
              "      <th>bix_potential_blasts</th>\n",
              "      <td>0.009276</td>\n",
              "    </tr>\n",
              "  </tbody>\n",
              "</table>\n",
              "</div>"
            ],
            "text/plain": [
              "                      importance\n",
              "_MagType_               0.292889\n",
              "_Longitude_             0.270795\n",
              "_Latitude_              0.250370\n",
              "_DepthMeters_           0.146174\n",
              "_Contributor_           0.017228\n",
              "potential_blast         0.013267\n",
              "bix_potential_blasts    0.009276"
            ]
          },
          "metadata": {
            "tags": []
          },
          "execution_count": 69
        }
      ]
    },
    {
      "cell_type": "code",
      "metadata": {
        "colab": {
          "base_uri": "https://localhost:8080/",
          "height": 312
        },
        "id": "u6Cr1knSUcid",
        "outputId": "12ecb9db-c4c4-43c7-88bd-5c41c9ea2852"
      },
      "source": [
        "#feature importance bar graph\n",
        "features=x_train_rfe.columns\n",
        "importances = rf.feature_importances_\n",
        "indices = np.argsort(importances)\n",
        "plt.figure(1)\n",
        "plt.title('Feature Importances')\n",
        "plt.barh(range(len(indices)), importances[indices], align='center')\n",
        "plt.yticks(range(len(indices)), features[indices])\n",
        "plt.xlabel('Relative Importance')"
      ],
      "execution_count": null,
      "outputs": [
        {
          "output_type": "execute_result",
          "data": {
            "text/plain": [
              "Text(0.5, 0, 'Relative Importance')"
            ]
          },
          "metadata": {
            "tags": []
          },
          "execution_count": 70
        },
        {
          "output_type": "display_data",
          "data": {
            "image/png": "[encoded data removed]",
            "text/plain": [
              "<Figure size 432x288 with 1 Axes>"
            ]
          },
          "metadata": {
            "tags": [],
            "needs_background": "light"
          }
        }
      ]
    },
    {
      "cell_type": "markdown",
      "metadata": {
        "id": "wDkYXLFNxGCp"
      },
      "source": [
        "# Use only important features for new model"
      ]
    },
    {
      "cell_type": "code",
      "metadata": {
        "id": "WqJSBhyDDN3C"
      },
      "source": [
        "#declare X\n",
        "X = data[['_Latitude_',\n",
        " '_Longitude_',\n",
        " '_MagType_',\n",
        " '_DepthMeters_']]"
      ],
      "execution_count": null,
      "outputs": []
    },
    {
      "cell_type": "code",
      "metadata": {
        "id": "T7oDB50XDT8y"
      },
      "source": [
        "#declare target \n",
        "y = data[['_Magnitude_']]"
      ],
      "execution_count": null,
      "outputs": []
    },
    {
      "cell_type": "code",
      "metadata": {
        "id": "DWOT9KiNDWno"
      },
      "source": [
        "#split data\n",
        "X_train, X_test, y_train, y_test = train_test_split(X, y, test_size=0.33, random_state=10)"
      ],
      "execution_count": null,
      "outputs": []
    },
    {
      "cell_type": "code",
      "metadata": {
        "colab": {
          "base_uri": "https://localhost:8080/"
        },
        "id": "Zt-BI2GoDZiy",
        "outputId": "730be476-0acb-4aea-acab-57720b5bcc26"
      },
      "source": [
        "#linear regression\n",
        "linreg = linear_model.LinearRegression()\n",
        "linreg.fit(X_train , y_train)\n",
        "\n",
        "mag_y_pred = linreg.predict(X_test)\n",
        "mag_y_pred.shape"
      ],
      "execution_count": null,
      "outputs": [
        {
          "output_type": "execute_result",
          "data": {
            "text/plain": [
              "(544, 1)"
            ]
          },
          "metadata": {
            "tags": []
          },
          "execution_count": 74
        }
      ]
    },
    {
      "cell_type": "code",
      "metadata": {
        "colab": {
          "base_uri": "https://localhost:8080/"
        },
        "id": "Vw7uU-lVDbvI",
        "outputId": "d8313676-716f-4378-d225-426351207e54"
      },
      "source": [
        "#Metrics\n",
        "print('R-Squared :', metrics.r2_score(y_test,mag_y_pred).round(2))\n",
        "print('Mean Squared Error :', metrics.mean_squared_error(y_test,y_pred))\n",
        "print('R Mean Square Error :', np.sqrt(metrics.mean_squared_error(y_test,y_pred)))"
      ],
      "execution_count": null,
      "outputs": [
        {
          "output_type": "stream",
          "text": [
            "R-Squared : 0.06\n",
            "Mean Squared Error : 6624.825677465807\n",
            "R Mean Square Error : 81.39303211863904\n"
          ],
          "name": "stdout"
        }
      ]
    },
    {
      "cell_type": "code",
      "metadata": {
        "colab": {
          "base_uri": "https://localhost:8080/",
          "height": 296
        },
        "id": "7XlWD_d0_IRw",
        "outputId": "9d09ac51-4fff-4164-f7bf-200dacbe6b72"
      },
      "source": [
        "#new scatter plot\n",
        "plt.scatter(y_test, mag_y_pred,  alpha=0.2, color = 'blue')\n",
        "plt.xlabel('Magnetudes')\n",
        "plt.ylabel('Predictions')"
      ],
      "execution_count": null,
      "outputs": [
        {
          "output_type": "execute_result",
          "data": {
            "text/plain": [
              "Text(0, 0.5, 'Predictions')"
            ]
          },
          "metadata": {
            "tags": []
          },
          "execution_count": 76
        },
        {
          "output_type": "display_data",
          "data": {
            "image/png": "[encoded data removed]",
            "text/plain": [
              "<Figure size 432x288 with 1 Axes>"
            ]
          },
          "metadata": {
            "tags": [],
            "needs_background": "light"
          }
        }
      ]
    }
  ]
}